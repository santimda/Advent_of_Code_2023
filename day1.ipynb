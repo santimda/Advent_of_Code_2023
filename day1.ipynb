{
 "cells": [
  {
   "cell_type": "code",
   "execution_count": 1,
   "id": "fae52ce3-880c-431e-bf23-9fbf389545ea",
   "metadata": {},
   "outputs": [],
   "source": [
    "#file_name = 'day1_test.dat'\n",
    "#file_name = 'day1_test2.dat'\n",
    "file_name = 'day1.dat'\n",
    "with open(file_name, 'r') as file:\n",
    "    lines = [line.strip() for line in file.readlines()]\n",
    "    \n",
    "#for line in lines:\n",
    "#    print(line)"
   ]
  },
  {
   "cell_type": "markdown",
   "id": "c30b47d3-5a1e-40b4-8ee0-1d8650d583be",
   "metadata": {},
   "source": [
    "### Part 1"
   ]
  },
  {
   "cell_type": "code",
   "execution_count": 2,
   "id": "bc375702-4a5c-419d-a841-8fb42f7cac86",
   "metadata": {},
   "outputs": [
    {
     "name": "stdout",
     "output_type": "stream",
     "text": [
      "sum=54630\n"
     ]
    }
   ],
   "source": [
    "sum = 0\n",
    "for line in lines:\n",
    "    for char in line:\n",
    "        if char.isdigit():\n",
    "            num1 = char\n",
    "            break\n",
    "    for char in reversed(line):\n",
    "        if char.isdigit():\n",
    "            num2 = char\n",
    "            break\n",
    "    num = int(num1 + num2)\n",
    "    #print(num)\n",
    "    sum += num\n",
    "\n",
    "print(f'{sum=}')"
   ]
  },
  {
   "cell_type": "markdown",
   "id": "8ee461d9-623a-4284-8da1-1d656da9d79f",
   "metadata": {},
   "source": [
    "### Part 2"
   ]
  },
  {
   "cell_type": "code",
   "execution_count": 4,
   "id": "7bc2ea0e-cca2-4e45-a890-c64a71158012",
   "metadata": {},
   "outputs": [
    {
     "name": "stdout",
     "output_type": "stream",
     "text": [
      "sum=54770\n"
     ]
    }
   ],
   "source": [
    "valid_strings = {\"one\":1, \"two\":2, \"three\":3, \"four\":4, \"five\":5, \"six\":6, \"seven\":7, \"eight\":8, \"nine\":9}\n",
    "sum = 0\n",
    "for line in lines:\n",
    "    #print(line)\n",
    "\n",
    "    found1 = False\n",
    "    first_letters = ''\n",
    "    while not found1:\n",
    "        for char in line:\n",
    "            if char.isdigit():\n",
    "                num1 = char\n",
    "                found1 = True\n",
    "                break\n",
    "            else:\n",
    "                first_letters = first_letters + char\n",
    "                #print(first_letters)\n",
    "                for valid_string in valid_strings.keys():\n",
    "                    if valid_string in first_letters:\n",
    "                        num1 = str( valid_strings[valid_string] )\n",
    "                        found1 = True\n",
    "                        break\n",
    "                if found1:\n",
    "                    break\n",
    "    #print(num1) \n",
    "    \n",
    "    found2 = False\n",
    "    last_letters = ''            \n",
    "    while not found2:\n",
    "        for char in reversed(line):\n",
    "            if char.isdigit():\n",
    "                num2 = char\n",
    "                found2 = True\n",
    "                break\n",
    "            else:\n",
    "                last_letters = char + last_letters\n",
    "                #print(last_letters)\n",
    "                for valid_string in valid_strings.keys():\n",
    "                    if valid_string in last_letters:\n",
    "                        num2 = str( valid_strings[valid_string] ) \n",
    "                        found2 = True\n",
    "                        break\n",
    "                if found2:\n",
    "                    break\n",
    "    #print(num2)\n",
    "\n",
    "    # num1 and num2 are strings\n",
    "    num = int(num1 + num2)\n",
    "    #print(num)\n",
    "    sum += num\n",
    "\n",
    "print(f'{sum=}')"
   ]
  },
  {
   "cell_type": "code",
   "execution_count": null,
   "id": "a45080e3-5d97-4302-8d28-b93e9b34a409",
   "metadata": {},
   "outputs": [],
   "source": []
  }
 ],
 "metadata": {
  "kernelspec": {
   "display_name": "Python 3 (ipykernel)",
   "language": "python",
   "name": "python3"
  },
  "language_info": {
   "codemirror_mode": {
    "name": "ipython",
    "version": 3
   },
   "file_extension": ".py",
   "mimetype": "text/x-python",
   "name": "python",
   "nbconvert_exporter": "python",
   "pygments_lexer": "ipython3",
   "version": "3.8.18"
  }
 },
 "nbformat": 4,
 "nbformat_minor": 5
}
