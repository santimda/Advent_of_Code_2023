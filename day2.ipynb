{
 "cells": [
  {
   "cell_type": "code",
   "execution_count": 1,
   "id": "fae52ce3-880c-431e-bf23-9fbf389545ea",
   "metadata": {},
   "outputs": [],
   "source": [
    "#file_name = 'day2_test.dat'\n",
    "file_name = 'day2.dat'\n",
    "with open(file_name, 'r') as file:\n",
    "    lines = [line.strip() for line in file.readlines()]\n",
    "\n",
    "# These are the maximum number of cubes available\n",
    "max_red = 12\n",
    "max_green = 13\n",
    "max_blue = 14"
   ]
  },
  {
   "cell_type": "markdown",
   "id": "c69fc532-820e-4ba6-a41e-91cf438cac67",
   "metadata": {},
   "source": [
    "### Part 1"
   ]
  },
  {
   "cell_type": "code",
   "execution_count": 2,
   "id": "7759fcf2-d7e7-4447-ab14-36fe318199c9",
   "metadata": {},
   "outputs": [
    {
     "name": "stdout",
     "output_type": "stream",
     "text": [
      "sum=2348\n"
     ]
    }
   ],
   "source": [
    "# Read all games, retrieve the game_id and check if in all sets the number of each cube color is below the maximum available. \n",
    "# Under that condition, add the game_id to the total. \n",
    "sum = 0\n",
    "for line in lines:\n",
    "    game = line.split(\":\")[0]\n",
    "    game_id = int( game.split(\" \")[-1] )\n",
    "    all_sets = line.split(\":\")[-1]\n",
    "    sets = [x for x in all_sets.split(\";\")]\n",
    "    #print(sets)\n",
    "    valid_game = True\n",
    "    # A game is valid only if ALL sets are valid\n",
    "    for set in sets:\n",
    "        valid_set = True\n",
    "        cubes = set.split(\",\")\n",
    "        # A set is valid only if ALL cube numbers are valid\n",
    "        for cube in cubes:\n",
    "            #print(cube.strip())\n",
    "            number = int( cube.strip().split(\" \")[0] ) \n",
    "            color = cube.strip().split(\" \")[-1]\n",
    "            #print(number)\n",
    "            #print(color)\n",
    "            if color == \"red\" and (number > max_red):\n",
    "                valid_set = False\n",
    "                break\n",
    "            elif color == \"blue\" and (number > max_blue):\n",
    "                valid_set = False\n",
    "                break\n",
    "            elif color == \"green\" and (number > max_green):\n",
    "                valid_set = False\n",
    "                break\n",
    "        if not valid_set:\n",
    "            valid_game = False\n",
    "            break\n",
    "            \n",
    "    if (valid_game):\n",
    "        #print(f'Game {game_id} is a valid game')\n",
    "        sum += game_id\n",
    "\n",
    "print(f'{sum=}')\n"
   ]
  },
  {
   "cell_type": "markdown",
   "id": "a54ff926-47a2-49d3-aa1b-dd4fbc14dbf9",
   "metadata": {},
   "source": [
    "### Part 2"
   ]
  },
  {
   "cell_type": "code",
   "execution_count": 4,
   "id": "b4e93b42-adc4-48dc-a598-2c6129e58613",
   "metadata": {},
   "outputs": [
    {
     "name": "stdout",
     "output_type": "stream",
     "text": [
      "sum=76008\n"
     ]
    }
   ],
   "source": [
    "# Read all games and look for the maximum number of red, blue and green cubes in any set; \n",
    "# that is the minimum number of available cubes that would have been required to have a valid game\n",
    "sum = 0\n",
    "for line in lines:\n",
    "    game = line.split(\":\")[0]\n",
    "    game_id = int( game.split(\" \")[-1] )\n",
    "    all_sets = line.split(\":\")[-1]\n",
    "    sets = [x for x in all_sets.split(\";\")]\n",
    "    #print(sets)\n",
    "    min_red = 0\n",
    "    min_blue = 0\n",
    "    min_green = 0\n",
    "    for set in sets:\n",
    "        valid_set = True\n",
    "        cubes = set.split(\",\")\n",
    "        # A set is valid only if ALL cube numbers are valid\n",
    "        for cube in cubes:\n",
    "            #print(cube.strip())\n",
    "            number = int( cube.strip().split(\" \")[0] ) \n",
    "            color = cube.strip().split(\" \")[-1]\n",
    "            #print(number)\n",
    "            #print(color)\n",
    "            if color == \"red\" and (number > min_red):\n",
    "                min_red = number\n",
    "            elif color == \"blue\" and (number > min_blue):\n",
    "                min_blue = number\n",
    "            elif color == \"green\" and (number > min_green):\n",
    "                min_green = number\n",
    "\n",
    "    power = min_red * min_blue * min_green\n",
    "    #print(f'Game {game_id} has {power=}')        \n",
    "    sum += power\n",
    "\n",
    "print(f'{sum=}')\n"
   ]
  },
  {
   "cell_type": "code",
   "execution_count": null,
   "id": "4a7f8dd0-4da5-4f75-8b1a-e7cf98c0809a",
   "metadata": {},
   "outputs": [],
   "source": [
    " "
   ]
  }
 ],
 "metadata": {
  "kernelspec": {
   "display_name": "Python 3 (ipykernel)",
   "language": "python",
   "name": "python3"
  },
  "language_info": {
   "codemirror_mode": {
    "name": "ipython",
    "version": 3
   },
   "file_extension": ".py",
   "mimetype": "text/x-python",
   "name": "python",
   "nbconvert_exporter": "python",
   "pygments_lexer": "ipython3",
   "version": "3.8.18"
  }
 },
 "nbformat": 4,
 "nbformat_minor": 5
}
